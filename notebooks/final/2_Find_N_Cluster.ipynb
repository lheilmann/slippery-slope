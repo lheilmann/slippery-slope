{
 "cells": [
  {
   "cell_type": "code",
   "execution_count": 159,
   "metadata": {},
   "outputs": [
    {
     "name": "stdout",
     "output_type": "stream",
     "text": [
      "zsh:cd:1: no such file or directory: ../src\r\n"
     ]
    }
   ],
   "source": [
    "!cd ../src"
   ]
  },
  {
   "cell_type": "code",
   "execution_count": 160,
   "metadata": {},
   "outputs": [
    {
     "name": "stdout",
     "output_type": "stream",
     "text": [
      "The autoreload extension is already loaded. To reload it, use:\n",
      "  %reload_ext autoreload\n"
     ]
    }
   ],
   "source": [
    "%load_ext autoreload"
   ]
  },
  {
   "cell_type": "code",
   "execution_count": 161,
   "metadata": {},
   "outputs": [],
   "source": [
    "%autoreload 2"
   ]
  },
  {
   "cell_type": "code",
   "execution_count": 162,
   "metadata": {},
   "outputs": [],
   "source": [
    "import pandas as pd\n",
    "import numpy as np\n",
    "import spacy"
   ]
  },
  {
   "cell_type": "code",
   "execution_count": 163,
   "metadata": {},
   "outputs": [],
   "source": [
    "nlp = spacy.load(\"en_core_web_lg\")"
   ]
  },
  {
   "cell_type": "markdown",
   "source": [
    "### Parameters"
   ],
   "metadata": {
    "collapsed": false
   }
  },
  {
   "cell_type": "code",
   "source": [
    "from src.utils import plots_dir, clusters_dir, features_dir\n",
    "import matplotlib.pyplot as plt\n",
    "\n",
    "# Plots\n",
    "font = {\n",
    "    'size': 16\n",
    "}\n",
    "plt.rc('font', **font)\n",
    "\n",
    "# Experiment\n",
    "group = \"controlled\"  # \"controlled\" or \"free\" or \"combined\"\n",
    "pos = \"adjectives\"  # \"nouns\" or \"adjectives\"\n",
    "\n",
    "colors = {\n",
    "    \"controlled\": \"#97121f\",\n",
    "    \"free\": \"#1271d1\",\n",
    "    \"combined\": \"#0b4539\"\n",
    "}\n",
    "\n",
    "# Embeddings\n",
    "embeddings_model = \"glove\"  # \"bert\" or \"glove\"\n",
    "\n",
    "# Clustering\n",
    "if group == \"controlled\" and pos == \"nouns\":\n",
    "    N_CLUSTERS = 9\n",
    "if group == \"controlled\" and pos == \"adjectives\":\n",
    "    N_CLUSTERS = 10\n",
    "if group == \"free\" and pos == \"nouns\":\n",
    "    N_CLUSTERS = 12\n",
    "if group == \"free\" and pos == \"adjectives\":\n",
    "    N_CLUSTERS = 11\n",
    "if group == \"combined\" and pos == \"nouns\":\n",
    "    N_CLUSTERS = 17\n",
    "if group == \"combined\" and pos == \"adjectives\":\n",
    "    N_CLUSTERS = 19\n",
    "\n",
    "# Base output paths\n",
    "base_filename = f\"{group}_{pos}_2_{embeddings_model}_agglo\"\n",
    "plots_path = plots_dir() / base_filename\n",
    "plots_path = str(plots_path)\n",
    "clusters_path = clusters_dir() / base_filename\n",
    "clusters_path = str(clusters_path) + f\"_n{N_CLUSTERS}\"\n",
    "features_path = features_dir() / \"linguistic\" / base_filename\n",
    "features_path = str(features_path) + f\"_n{N_CLUSTERS}\""
   ],
   "metadata": {
    "collapsed": false,
    "pycharm": {
     "name": "#%%\n"
    }
   },
   "execution_count": 164,
   "outputs": []
  },
  {
   "cell_type": "markdown",
   "source": [
    "### Load descriptors"
   ],
   "metadata": {
    "collapsed": false,
    "pycharm": {
     "name": "#%% md\n"
    }
   }
  },
  {
   "cell_type": "code",
   "execution_count": 165,
   "outputs": [
    {
     "data": {
      "text/plain": "(44,\n ['first',\n  'rhythmic',\n  'excited',\n  'much',\n  'other',\n  'anxious',\n  'different',\n  'constant',\n  'more',\n  'like',\n  'sweaty',\n  'hard',\n  'slow',\n  'slight',\n  'little',\n  'pleasant',\n  'sticky',\n  'uncomfortable',\n  'good',\n  'long',\n  'strong',\n  'nice',\n  'annoying',\n  'small',\n  'tiny',\n  'same',\n  'electrical',\n  'last',\n  'least',\n  'bad',\n  'actual',\n  'smooth',\n  'second',\n  'super',\n  'weird',\n  'light',\n  'similar',\n  'sure',\n  'soft',\n  'satisfied',\n  'subtle',\n  'electric',\n  'continuous',\n  'low'])"
     },
     "execution_count": 165,
     "metadata": {},
     "output_type": "execute_result"
    }
   ],
   "source": [
    "from src.utils import descriptors_dir\n",
    "\n",
    "descriptors = np.genfromtxt(descriptors_dir() / f\"{group}_{pos}.txt\", dtype=str)\n",
    "len(descriptors), list(descriptors)"
   ],
   "metadata": {
    "collapsed": false,
    "pycharm": {
     "name": "#%%\n"
    }
   }
  },
  {
   "cell_type": "markdown",
   "source": [
    "### Get static embeddings for descriptors"
   ],
   "metadata": {
    "collapsed": false
   }
  },
  {
   "cell_type": "code",
   "execution_count": 166,
   "metadata": {},
   "outputs": [
    {
     "name": "stdout",
     "output_type": "stream",
     "text": [
      "(44, 300)\n"
     ]
    }
   ],
   "source": [
    "if embeddings_model == \"bert\":\n",
    "    from sentence_transformers import SentenceTransformer\n",
    "    model = SentenceTransformer(\"sentence-transformers/all-mpnet-base-v2\")\n",
    "    embeddings = model.encode(descriptors, convert_to_numpy=True, show_progress_bar=True)\n",
    "else:  # \"glove\"\n",
    "    from src.glove import get_embeddings\n",
    "    embeddings_dict = get_embeddings(n_dim=300)\n",
    "    embeddings = np.array([embeddings_dict[word] for word in descriptors])\n",
    "\n",
    "print(embeddings.shape)"
   ]
  },
  {
   "cell_type": "markdown",
   "source": [
    "### Find best clustering"
   ],
   "metadata": {
    "collapsed": false
   }
  },
  {
   "cell_type": "code",
   "execution_count": 167,
   "outputs": [
    {
     "name": "stderr",
     "output_type": "stream",
     "text": [
      "100%|██████████| 27/27 [00:00<00:00, 202.37it/s]\n"
     ]
    },
    {
     "data": {
      "text/plain": "<Figure size 1152x576 with 1 Axes>",
      "image/png": "[encoded data removed]"
     },
     "metadata": {
      "needs_background": "light"
     },
     "output_type": "display_data"
    }
   ],
   "source": [
    "from tqdm import tqdm\n",
    "from sklearn.cluster import AgglomerativeClustering\n",
    "from sklearn.metrics import silhouette_score, davies_bouldin_score\n",
    "\n",
    "n_clusters = range(3, 30)\n",
    "sl_scores = []\n",
    "\n",
    "for n in tqdm(n_clusters):\n",
    "    labels = AgglomerativeClustering(affinity=\"euclidean\",\n",
    "                                     n_clusters=n,\n",
    "                                     linkage=\"ward\"\n",
    "                                     ).fit_predict(embeddings)\n",
    "    sl_score = silhouette_score(embeddings, labels)\n",
    "    sl_scores.append(sl_score)\n",
    "\n",
    "plt.figure(figsize=(16, 8))\n",
    "plt.scatter(n_clusters, sl_scores, color=colors[group])\n",
    "for i, n in enumerate(n_clusters):\n",
    "    plt.vlines(x=n, ymin=0, ymax=sl_scores[i], ls=\":\", colors=colors[group])\n",
    "plt.xlabel(\"Number of clusters\")\n",
    "plt.ylabel(\"Silhouette score\")\n",
    "plt.xlim(2)\n",
    "plt.ylim(0)\n",
    "plt.xticks(n_clusters)\n",
    "plt.savefig(plots_path + \"_silhouette_score.png\",\n",
    "            bbox_inches='tight',\n",
    "            transparent=True,\n",
    "            pad_inches=0,\n",
    "            dpi=300)"
   ],
   "metadata": {
    "collapsed": false,
    "pycharm": {
     "name": "#%%\n"
    }
   }
  },
  {
   "cell_type": "markdown",
   "source": [
    "### Compute clustering and store results in dicts"
   ],
   "metadata": {
    "collapsed": false
   }
  },
  {
   "cell_type": "code",
   "execution_count": 168,
   "outputs": [],
   "source": [
    "labels = AgglomerativeClustering(affinity=\"euclidean\",\n",
    "                                 n_clusters=N_CLUSTERS,\n",
    "                                 linkage=\"ward\"\n",
    "                                 ).fit_predict(embeddings)\n",
    "\n",
    "concept_to_desc = {} # k: concept_idx, v: list of descriptors\n",
    "desc_to_concept = {} # k: desc_idx, v: concept_idx\n",
    "\n",
    "for concept_idx in range(0, N_CLUSTERS):\n",
    "    desc_indices = list(np.argwhere(labels == concept_idx))\n",
    "    desc_indices = [desc_idx[0] for desc_idx in desc_indices]\n",
    "    concept_to_desc[concept_idx] = [descriptors[desc_idx] for desc_idx in desc_indices]\n",
    "\n",
    "    for desc_idx in desc_indices:\n",
    "        desc_to_concept[desc_idx] = concept_idx"
   ],
   "metadata": {
    "collapsed": false,
    "pycharm": {
     "name": "#%%\n"
    }
   }
  },
  {
   "cell_type": "markdown",
   "source": [
    "### Find cluster centers / concept representative\n"
   ],
   "metadata": {
    "collapsed": false
   }
  },
  {
   "cell_type": "code",
   "execution_count": 169,
   "outputs": [],
   "source": [
    "from sklearn.metrics.pairwise import euclidean_distances\n",
    "\n",
    "concept_centers = []\n",
    "for concept_idx in range(0, N_CLUSTERS):\n",
    "    desc_indices = list(np.argwhere(labels == concept_idx))\n",
    "    desc_indices = [desc_idx[0] for desc_idx in desc_indices]\n",
    "    desc_embeddings = embeddings[desc_indices] # get embeddings for descriptors in concept\n",
    "    distance_matrix = euclidean_distances(desc_embeddings, desc_embeddings) # compute distances\n",
    "    summed_distance_matrix = np.sum(distance_matrix, axis=1) # sum up distances per descriptor\n",
    "    min_idx = np.argmin(summed_distance_matrix) # find min overall distance\n",
    "    concept_center_idx = desc_indices[min_idx]\n",
    "    concept_centers.append(descriptors[concept_center_idx])\n",
    "\n",
    "# np.savetxt(clusters_path + \"_centers.csv\", concept_centers, delimiter=\",\", fmt=\"%s\")"
   ],
   "metadata": {
    "collapsed": false,
    "pycharm": {
     "name": "#%%\n"
    }
   }
  },
  {
   "cell_type": "markdown",
   "source": [
    "### Plot dendrogram and save to disk"
   ],
   "metadata": {
    "collapsed": false
   }
  },
  {
   "cell_type": "code",
   "execution_count": 170,
   "outputs": [
    {
     "data": {
      "text/plain": "<Figure size 2880x720 with 1 Axes>",
      "image/png": "[encoded data removed]"
     },
     "metadata": {
      "needs_background": "light"
     },
     "output_type": "display_data"
    }
   ],
   "source": [
    "from scipy.cluster.hierarchy import dendrogram\n",
    "\n",
    "model = AgglomerativeClustering(affinity=\"euclidean\",\n",
    "                                linkage=\"ward\",\n",
    "                                distance_threshold=0,\n",
    "                                n_clusters=None)\n",
    "model = model.fit(embeddings)\n",
    "\n",
    "plt.figure(figsize=(40,10))\n",
    "\n",
    "counts = np.zeros(model.children_.shape[0])\n",
    "n_samples = len(model.labels_)\n",
    "for i, merge in enumerate(model.children_):\n",
    "    current_count = 0\n",
    "    for child_idx in merge:\n",
    "        if child_idx < n_samples:\n",
    "            current_count += 1  # leaf node\n",
    "        else:\n",
    "            current_count += counts[child_idx - n_samples]\n",
    "    counts[i] = current_count\n",
    "\n",
    "linkage_matrix = np.column_stack([model.children_, model.distances_, counts]).astype(float)\n",
    "dendrogram(linkage_matrix,\n",
    "           labels=descriptors,\n",
    "           leaf_rotation=90.,\n",
    "           leaf_font_size=font[\"size\"])\n",
    "plt.savefig(plots_path + \"_dendrogram.png\")"
   ],
   "metadata": {
    "collapsed": false,
    "pycharm": {
     "name": "#%%\n"
    }
   }
  },
  {
   "cell_type": "markdown",
   "source": [
    "### Save clusters to disk (as JSON)"
   ],
   "metadata": {
    "collapsed": false
   }
  },
  {
   "cell_type": "code",
   "execution_count": 171,
   "outputs": [],
   "source": [
    "import json\n",
    "\n",
    "# path = clusters_path + \".json\"\n",
    "# with open(path, \"w\") as fp:\n",
    "#     json.dump(concept_to_desc, fp)\n",
    "#\n",
    "# print(f\"See clusters at {path}\")"
   ],
   "metadata": {
    "collapsed": false,
    "pycharm": {
     "name": "#%%\n"
    }
   }
  },
  {
   "cell_type": "markdown",
   "source": [
    "### From clusters to concept matrix\n",
    "\n",
    "1. Replace words in normalized pattern descriptions with the concept they are associated with."
   ],
   "metadata": {
    "collapsed": false,
    "pycharm": {
     "name": "#%% md\n"
    }
   }
  },
  {
   "cell_type": "code",
   "execution_count": 172,
   "outputs": [],
   "source": [
    "from src.data import get_merged_norm_descriptions\n",
    "\n",
    "merged_norm_descriptions = get_merged_norm_descriptions(group) # 32 patterns\n",
    "concepts = []\n",
    "\n",
    "for description in merged_norm_descriptions:\n",
    "    concept_names = []\n",
    "    for word in description.split():\n",
    "        word_indices = np.where(np.array(descriptors) == word)[0]\n",
    "        if len(word_indices) > 0:  # word is in descriptors\n",
    "            word_idx = word_indices[0]\n",
    "            concept_idx = desc_to_concept[word_idx]\n",
    "            concept_name = f\"concept_{concept_idx}\"\n",
    "            concept_names.append(concept_name)\n",
    "\n",
    "    concepts.append(\" \".join(concept_names))"
   ],
   "metadata": {
    "collapsed": false,
    "pycharm": {
     "name": "#%%\n"
    }
   }
  },
  {
   "cell_type": "markdown",
   "source": [
    "### TF-IDF\n",
    "\n",
    "1. Compute TF-IDF feature matrix on the new pattern descriptions that include concept ids instead of words.\n",
    "2. Save feature matrix to disk."
   ],
   "metadata": {
    "collapsed": false
   }
  },
  {
   "cell_type": "code",
   "execution_count": 173,
   "outputs": [],
   "source": [
    "from sklearn.feature_extraction.text import TfidfVectorizer\n",
    "\n",
    "vectorizer = TfidfVectorizer()\n",
    "X_tfidf = vectorizer.fit_transform(concepts)"
   ],
   "metadata": {
    "collapsed": false,
    "pycharm": {
     "name": "#%%\n"
    }
   }
  },
  {
   "cell_type": "code",
   "execution_count": 174,
   "outputs": [],
   "source": [
    "ids = [ [id] for id in range(1, 33) ]\n",
    "features = X_tfidf.todense()\n",
    "features = np.hstack((ids, features))\n",
    "columns = [\"id\"]\n",
    "for feature_name in vectorizer.get_feature_names_out():\n",
    "    columns.append(feature_name)\n",
    "df = pd.DataFrame(features, columns=columns)\n",
    "df = df.round(4)\n",
    "df = df.astype({ \"id\": int })\n",
    "# df.to_csv(features_path + \"_tfidf.csv\", index=False)"
   ],
   "metadata": {
    "collapsed": false,
    "pycharm": {
     "name": "#%%\n"
    }
   }
  },
  {
   "cell_type": "markdown",
   "source": [
    "### Count Vectorizer\n",
    "\n",
    "1. Count occurrences of concepts.\n",
    "2. Save feature matrix to disk."
   ],
   "metadata": {
    "collapsed": false
   }
  },
  {
   "cell_type": "code",
   "execution_count": 175,
   "outputs": [],
   "source": [
    "from sklearn.feature_extraction.text import CountVectorizer\n",
    "\n",
    "vectorizer = CountVectorizer()\n",
    "X_count = vectorizer.fit_transform(concepts)"
   ],
   "metadata": {
    "collapsed": false,
    "pycharm": {
     "name": "#%%\n"
    }
   }
  },
  {
   "cell_type": "code",
   "execution_count": 176,
   "outputs": [],
   "source": [
    "ids = [ [id] for id in range(1, 33) ]\n",
    "features = X_count.todense()\n",
    "features = np.hstack((ids, features))\n",
    "columns = [\"id\"]\n",
    "for feature_name in vectorizer.get_feature_names_out():\n",
    "    columns.append(feature_name)\n",
    "df = pd.DataFrame(features, columns=columns)\n",
    "df = df.round(4)\n",
    "df = df.astype({ \"id\": int })\n",
    "df.to_csv(features_path + \"_count.csv\", index=False)"
   ],
   "metadata": {
    "collapsed": false,
    "pycharm": {
     "name": "#%%\n"
    }
   }
  },
  {
   "cell_type": "code",
   "execution_count": 176,
   "outputs": [],
   "source": [],
   "metadata": {
    "collapsed": false,
    "pycharm": {
     "name": "#%%\n"
    }
   }
  }
 ],
 "metadata": {
  "interpreter": {
   "hash": "933bef1053b175de4736f56775eabf2339dd22c815971fabe7d440e8e2c9504a"
  },
  "kernelspec": {
   "display_name": "Python 3 (ipykernel)",
   "language": "python",
   "name": "python3"
  },
  "language_info": {
   "codemirror_mode": {
    "name": "ipython",
    "version": 3
   },
   "file_extension": ".py",
   "mimetype": "text/x-python",
   "name": "python",
   "nbconvert_exporter": "python",
   "pygments_lexer": "ipython3",
   "version": "3.9.9"
  }
 },
 "nbformat": 4,
 "nbformat_minor": 2
}