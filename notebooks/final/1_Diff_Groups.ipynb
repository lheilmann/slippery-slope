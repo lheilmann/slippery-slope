{
 "cells": [
  {
   "cell_type": "code",
   "execution_count": 48,
   "metadata": {},
   "outputs": [
    {
     "name": "stdout",
     "output_type": "stream",
     "text": [
      "zsh:cd:1: no such file or directory: ../src\r\n"
     ]
    }
   ],
   "source": [
    "!cd ../src"
   ]
  },
  {
   "cell_type": "code",
   "execution_count": 49,
   "metadata": {},
   "outputs": [
    {
     "name": "stdout",
     "output_type": "stream",
     "text": [
      "The autoreload extension is already loaded. To reload it, use:\n",
      "  %reload_ext autoreload\n"
     ]
    }
   ],
   "source": [
    "%load_ext autoreload"
   ]
  },
  {
   "cell_type": "code",
   "execution_count": 50,
   "metadata": {},
   "outputs": [],
   "source": [
    "%autoreload 2"
   ]
  },
  {
   "cell_type": "code",
   "execution_count": 51,
   "metadata": {},
   "outputs": [],
   "source": [
    "import numpy as np\n",
    "import spacy\n",
    "import matplotlib.pyplot as plt"
   ]
  },
  {
   "cell_type": "code",
   "execution_count": 52,
   "metadata": {},
   "outputs": [],
   "source": [
    "nlp = spacy.load(\"en_core_web_lg\")"
   ]
  },
  {
   "cell_type": "markdown",
   "source": [
    "### Parameters\n"
   ],
   "metadata": {
    "collapsed": false
   }
  },
  {
   "cell_type": "code",
   "execution_count": 53,
   "outputs": [],
   "source": [
    "# Plots\n",
    "font = {\n",
    "    'size': 16\n",
    "}\n",
    "plt.rc('font', **font)\n",
    "\n",
    "colors = {\n",
    "    \"controlled\": \"#97121f\",\n",
    "    \"free\": \"#1271d1\",\n",
    "    \"combined\": \"#0b4539\"\n",
    "}\n",
    "\n",
    "font_size = 16"
   ],
   "metadata": {
    "collapsed": false,
    "pycharm": {
     "name": "#%%\n"
    }
   }
  },
  {
   "cell_type": "code",
   "execution_count": 59,
   "outputs": [
    {
     "name": "stdout",
     "output_type": "stream",
     "text": [
      "controlled: 3673\n",
      "free: 3630\n",
      "combined: 7303\n",
      "----------\n",
      "controlled: 19.130208333333332\n",
      "free: 18.90625\n",
      "free: 19.018229166666668\n",
      "----------\n",
      "controlled: 1004\n",
      "free: 912\n",
      "free: 1515\n"
     ]
    }
   ],
   "source": [
    "from collections import Counter\n",
    "from src.data import get_full_text\n",
    "from src.utils import plots_dir\n",
    "\n",
    "text_controlled = get_full_text(group=\"controlled\")\n",
    "text_free = get_full_text(group=\"free\")\n",
    "text_combined = get_full_text(group=\"combined\")\n",
    "\n",
    "doc_controlled = nlp(text_controlled)\n",
    "doc_free = nlp(text_free)\n",
    "doc_combined = nlp(text_combined)\n",
    "\n",
    "# tokens_controlled = [token.text.lower() for token in doc_controlled if not token.is_punct and not token.is_stop and token.pos_ in [\"NOUN\", \"ADJ\"]]\n",
    "# tokens_free = [token.lemma_.lower() for token in doc_free if not token.is_punct and not token.is_stop and token.pos_ in [\"NOUN\", \"ADJ\"]]\n",
    "# tokens_combined = [token.lemma_.lower() for token in doc_combined if not token.is_punct and not token.is_stop and token.pos_ in [\"NOUN\", \"ADJ\"]]\n",
    "\n",
    "# tokens_controlled = [token.text.lower() for token in doc_controlled]\n",
    "# tokens_free = [token.text.lower() for token in doc_free]\n",
    "# tokens_combined = [token.text.lower() for token in doc_combined]\n",
    "\n",
    "print(f\"controlled: {len(tokens_controlled)}\")\n",
    "print(f\"free: {len(tokens_free)}\")\n",
    "print(f\"combined: {len(tokens_combined)}\")\n",
    "print(\"----------\")\n",
    "print(f\"controlled: {len(tokens_controlled) / 192}\")\n",
    "print(f\"free: {len(tokens_free)  / 192}\")\n",
    "print(f\"free: {len(tokens_combined)  / 384}\")\n",
    "print(\"----------\")\n",
    "print(f\"controlled: {len(set(tokens_controlled))}\")\n",
    "print(f\"free: {len(set(tokens_free))}\")\n",
    "print(f\"free: {len(set(tokens_combined))}\")"
   ],
   "metadata": {
    "collapsed": false,
    "pycharm": {
     "name": "#%%\n"
    }
   }
  },
  {
   "cell_type": "code",
   "execution_count": 55,
   "outputs": [
    {
     "name": "stdout",
     "output_type": "stream",
     "text": [
      "1: ['finger', 'bit', 'vibration', 'engine', 'sensation', 'vibrator', 'one', 'different', 'pattern', 'dramatic']\n",
      "2: ['alarm', 'bit', 'little', 'one', 'bored', 'tempo', 'sensation', 'alert', 'clock', 'lot']\n",
      "3: ['finger', 'pattern', 'bit', 'vibration', 'good', 'coarse', 'machine', 'tingle', 'way', 'feeling']\n",
      "4: ['little', 'bit', 'finger', 'beat', 'thing', 'kind', 'tiny', 'static', 'balloon', 'head']\n",
      "5: ['finger', 'vibration', 'little', 'time', 'feeling', 'bit', 'thing', 'one', 'smooth', 'kind']\n",
      "6: ['bit', 'thing', 'finger', 'pattern', 'white', 'noise', 'way', 'damp', 'mirror', 'sticky']\n",
      "7: ['carpet', 'little', 'finger', 'hard', 'bit', 'lot', 'one', 'similar', 'motor', 'thing']\n",
      "8: ['bit', 'sticky', 'finger', 'feeling', 'uncomfortable', 'kind', 'sort', 'good', 'sound', 'rubber']\n",
      "9: ['bit', 'nice', 'one', 'sensation', 'finger', 'little', 'glass', 'tender', 'static', 'urgent']\n",
      "10: ['finger', 'sensation', 'vibration', 'bit', 'glass', 'machine', 'kind', 'feeling', 'interesting', 'big']\n",
      "11: ['bit', 'soft', 'thing', 'lot', 'system', 'little', 'mind', 'energy', 'heart', 'regular']\n",
      "12: ['bit', 'finger', 'page', 'thing', 'way', 'little', 'constant', 'small', 'energy', 'feeling']\n",
      "13: ['finger', 'vibration', 'heartbeat', 'little', 'attention', 'one', 'heart', 'smooth', 'subtle', 'small']\n",
      "14: ['smooth', 'finger', 'little', 'vibration', 'beat', 'thing', 'dirt', 'song', 'nice', 'pen']\n",
      "15: ['bit', 'finger', 'little', 'friction', 'glass', 'tiny', 'sand', 'smooth', 'hard', 'stable']\n",
      "16: ['bit', 'little', 'action', 'constant', 'fast', 'lot', 'electric', 'actual', 'pulse', 'techno']\n",
      "17: ['bit', 'friction', 'slippery', 'little', 'finger', 'kind', 'feeling', 'surface', 'cat', 'constant']\n",
      "18: ['bit', 'finger', 'one', 'little', 'glass', 'train', 'game', 'remote', 'stressful', 'lot']\n",
      "19: ['bit', 'finger', 'knife', 'strong', 'electric', 'little', 'sound', 'edge', 'rugged', 'neutral']\n",
      "20: ['bit', 'finger', 'way', 'rhythm', 'little', 'kind', 'house', 'aggressive', 'one', 'sticker']\n",
      "21: ['vibration', 'little', 'different', 'soft', 'texture', 'pitch', 'smooth', 'ice', 'time', 'kind']\n",
      "22: ['light', 'finger', 'smooth', 'wall', 'dog', 'movie', 'bad', 'surface', 'kind', 'sensation']\n",
      "23: ['little', 'feeling', 'hand', 'bit', 'way', 'sensation', 'glass', 'stop', 'balloon', 'arm']\n",
      "24: ['bit', 'alarm', 'little', 'ambivalence', 'regular', 'pulse', 'vibration', 'sudden', 'annoying', 'hole']\n",
      "25: ['glass', 'bit', 'little', 'finger', 'dirty', 'gross', 'part', 'nasty', 'fingerprint', 'quiet']\n",
      "26: ['thing', 'bit', 'way', 'finger', 'little', 'vibration', 'staccato', 'anxious', 'feeling', 'aware']\n",
      "27: ['finger', 'bit', 'pattern', 'control', 'child', 'pencil', 'scratchy', 'smooth', 'surface', 'uniform']\n",
      "28: ['sensation', 'kind', 'way', 'speed', 'bump', 'game', 'little', 'feeling', 'hand', 'high']\n",
      "29: ['bit', 'little', 'small', 'water', 'finger', 'piece', 'wood', 'sweaty', 'mind', 'jet']\n",
      "30: ['bit', 'fun', 'little', 'feeling', 'finger', 'electric', 'sensation', 'light', 'vibration', 'bristle']\n",
      "31: ['bit', 'little', 'ball', 'surface', 'feeling', 'thing', 'massage', 'exciting', 'small', 'lot']\n",
      "32: ['vibrator', 'bit', 'alarm', 'urgent', 'one', 'finger', 'sensation', 'deep', 'little', 'vibration']\n"
     ]
    }
   ],
   "source": [
    "from src.data import get_merged_descriptions\n",
    "\n",
    "descriptions_cont = get_merged_descriptions(group=\"controlled\")\n",
    "descriptions_free = get_merged_descriptions(group=\"free\")\n",
    "\n",
    "for i, pattern in enumerate(descriptions_cont):\n",
    "    doc = nlp(pattern)\n",
    "    lemmas = [token.lemma_.lower() for token in doc if not token.is_punct and not token.is_stop and token.pos_ in [\"NOUN\", \"ADJ\"]]\n",
    "    most_common = Counter(lemmas).most_common(10)\n",
    "    print(f\"{i + 1}: {[k for k, v in most_common]}\")"
   ],
   "metadata": {
    "collapsed": false,
    "pycharm": {
     "name": "#%%\n"
    }
   }
  },
  {
   "cell_type": "code",
   "execution_count": 55,
   "outputs": [],
   "source": [],
   "metadata": {
    "collapsed": false,
    "pycharm": {
     "name": "#%%\n"
    }
   }
  }
 ],
 "metadata": {
  "interpreter": {
   "hash": "933bef1053b175de4736f56775eabf2339dd22c815971fabe7d440e8e2c9504a"
  },
  "kernelspec": {
   "display_name": "Python 3 (ipykernel)",
   "language": "python",
   "name": "python3"
  },
  "language_info": {
   "codemirror_mode": {
    "name": "ipython",
    "version": 3
   },
   "file_extension": ".py",
   "mimetype": "text/x-python",
   "name": "python",
   "nbconvert_exporter": "python",
   "pygments_lexer": "ipython3",
   "version": "3.9.9"
  }
 },
 "nbformat": 4,
 "nbformat_minor": 2
}